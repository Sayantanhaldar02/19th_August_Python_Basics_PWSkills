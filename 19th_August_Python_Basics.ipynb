{
 "cells": [
  {
   "cell_type": "markdown",
   "id": "e0e85959-0566-4b2b-84cd-4e14eafaa3ac",
   "metadata": {},
   "source": [
    "# Assignment"
   ]
  },
  {
   "cell_type": "markdown",
   "id": "7c988121-900c-44e5-97c2-6a751c6f50b6",
   "metadata": {},
   "source": [
    "# TOPIC: Python Basics Variable"
   ]
  },
  {
   "cell_type": "markdown",
   "id": "d17529cd-dc6a-4f8e-a99d-95e15d73c6ec",
   "metadata": {},
   "source": [
    " "
   ]
  },
  {
   "cell_type": "markdown",
   "id": "f3e51444-d9f7-4dbe-ac00-09a4812dd983",
   "metadata": {},
   "source": [
    "1. Declare two variables, `x` and `y`, and assign them integer values. Swap the\n",
    "values of these variables without using any temporary variable."
   ]
  },
  {
   "cell_type": "code",
   "execution_count": 1,
   "id": "d0aabb43-91ec-4489-87fe-5ac9452e7cf4",
   "metadata": {},
   "outputs": [
    {
     "name": "stdout",
     "output_type": "stream",
     "text": [
      "Before swap x = 30, y = 50\n",
      "After swap x = 50, y = 30\n"
     ]
    }
   ],
   "source": [
    "# Declare two variables \n",
    "x=30;\n",
    "y=50;\n",
    "\n",
    "print(f\"Before swap x = {x}, y = {y}\")\n",
    "\n",
    "# I am using addition and substraction method.\n",
    "# Here I am storing the sum value of x and y into x.\n",
    "# Then I substract y from x.\n",
    "\n",
    "x=x+y # x = 10+20 = 30. now x = 30\n",
    "y=x-y # y = 30-20 = 10. After substraction now y = 10\n",
    "x=x-y # x = 30-10 = 20. now x = 20\n",
    "\n",
    "print(f\"After swap x = {x}, y = {y}\")\n"
   ]
  },
  {
   "cell_type": "markdown",
   "id": "c2db3196-8723-4119-88ea-9d85b9956bdb",
   "metadata": {},
   "source": [
    " "
   ]
  },
  {
   "cell_type": "markdown",
   "id": "def549f2-8b66-4d56-b970-f148a6501a27",
   "metadata": {},
   "source": [
    "2. Create a program that calculates the area of a rectangle. Take the length and\n",
    "width as inputs from the user and store them in variables. Calculate and\n",
    "display the area."
   ]
  },
  {
   "cell_type": "code",
   "execution_count": 3,
   "id": "6e23a4ee-1f27-4d6e-a66e-018f569bd1eb",
   "metadata": {},
   "outputs": [
    {
     "name": "stdout",
     "output_type": "stream",
     "text": [
      "------Area Calculator of Rectangle------\n",
      "\n"
     ]
    },
    {
     "name": "stdin",
     "output_type": "stream",
     "text": [
      "Enter length :  20\n",
      "Enter width :  30\n"
     ]
    },
    {
     "name": "stdout",
     "output_type": "stream",
     "text": [
      "Calculated area is: 600\n"
     ]
    }
   ],
   "source": [
    "\n",
    "# Area of Rectangle  = length*width .\n",
    "print(\"------Area Calculator of Rectangle------\")\n",
    "print()\n",
    "\n",
    "# Take the length and width as inputs from the user and store them in variables.\n",
    "length = int(input(\"Enter length : \")) # taking length as user input and convert into an integer and store it a length variable\n",
    "width = int(input(\"Enter width : \")) # taking width as user input and convert into an integer and store it a width variable\n",
    "area = length*width \n",
    "print(f\"Calculated area is: {area}\")\n"
   ]
  },
  {
   "cell_type": "markdown",
   "id": "24d51a71-7c7d-4768-9559-cd3cd831da41",
   "metadata": {},
   "source": [
    " "
   ]
  },
  {
   "cell_type": "markdown",
   "id": "1b2d8743-2c93-4ab2-8e0f-6e7bb660b46a",
   "metadata": {},
   "source": [
    "3. Write a Python program that converts temperatures from Celsius to\n",
    "Fahrenheit. Take the temperature in Celsius as input, store it in a variable,\n",
    "convert it to Fahrenheit, and display the result."
   ]
  },
  {
   "cell_type": "code",
   "execution_count": 4,
   "id": "13f8afcb-a1ed-442b-8337-a0edbd6fe63b",
   "metadata": {},
   "outputs": [
    {
     "name": "stdout",
     "output_type": "stream",
     "text": [
      "------Temperature converter Celsius to Fatenheit-----\n",
      "\n"
     ]
    },
    {
     "name": "stdin",
     "output_type": "stream",
     "text": [
      "Enter temperature in celsius :  50\n"
     ]
    },
    {
     "name": "stdout",
     "output_type": "stream",
     "text": [
      "Converted temperature -----> 50.0°C = 122.0°F\n"
     ]
    }
   ],
   "source": [
    "# Converts temperatures from Celsius(c) to Fahrenheit(f)\n",
    "#  Farenheit(f) = (Celsius(c) * 9/5) + 32\n",
    "print(\"------Temperature converter Celsius to Fatenheit-----\")\n",
    "print()\n",
    "\n",
    "# Take the temperature in Celsius as input and convert into float datatype and store it in a variable celsius\n",
    "celsius = float(input(\"Enter temperature in celsius : \"))\n",
    "farenheit = (celsius * 9/5) + 32\n",
    "print(f\"Converted temperature -----> {celsius}°C = {farenheit}°F\")"
   ]
  },
  {
   "cell_type": "markdown",
   "id": "259fc37c-9ef5-45c8-b895-4bc2362a80e1",
   "metadata": {},
   "source": [
    " "
   ]
  },
  {
   "cell_type": "markdown",
   "id": "40787dbd-dadc-40c1-acb6-133ac942ab12",
   "metadata": {},
   "source": [
    " "
   ]
  },
  {
   "cell_type": "markdown",
   "id": "2ddb9d67-ed2c-4c5a-ad3a-218bac8b0c3d",
   "metadata": {},
   "source": [
    "# TOPIC: String Based Questions"
   ]
  },
  {
   "cell_type": "markdown",
   "id": "9a8d47b0-8b8c-4b91-a030-c06f8d2341e8",
   "metadata": {},
   "source": [
    " "
   ]
  },
  {
   "cell_type": "markdown",
   "id": "aa903ec6-ca2c-45d2-ac9d-76cc9ff1093f",
   "metadata": {},
   "source": [
    "1. Write a Python program that takes a string as input and prints the length of\n",
    "the string."
   ]
  },
  {
   "cell_type": "code",
   "execution_count": 5,
   "id": "094d3cbb-a8da-4733-8b27-f01bdd7198fe",
   "metadata": {},
   "outputs": [
    {
     "name": "stdout",
     "output_type": "stream",
     "text": [
      "-----Calculcate length of a string-----\n",
      "\n"
     ]
    },
    {
     "name": "stdin",
     "output_type": "stream",
     "text": [
      "Enter a string:  fvsdfsdfsf\n"
     ]
    },
    {
     "name": "stdout",
     "output_type": "stream",
     "text": [
      "The length of your entered string is : 10\n"
     ]
    }
   ],
   "source": [
    "# Takes a string from user input\n",
    "print(\"-----Calculcate length of a string-----\")\n",
    "print()\n",
    "string1 = input(\"Enter a string: \");\n",
    "# using len() method to return string's length.\n",
    "string_length = len(string1);\n",
    "print(f\"The length of your entered string is : {string_length}\")"
   ]
  },
  {
   "cell_type": "markdown",
   "id": "ff8c77e0-636d-4370-b9e6-5dd2a65a714c",
   "metadata": {},
   "source": [
    " "
   ]
  },
  {
   "cell_type": "markdown",
   "id": "4c7fb45d-853b-4ff8-abcd-36d12b147ef1",
   "metadata": {},
   "source": [
    "2. Create a program that takes a sentence from the user and counts the number\n",
    "of vowels (a, e, i, o, u) in the string."
   ]
  },
  {
   "cell_type": "code",
   "execution_count": null,
   "id": "8ada9ec9-dab2-42f4-a393-fe57a91dfbfb",
   "metadata": {},
   "outputs": [],
   "source": [
    "print(\"-----Count vowels in Sentences-----\")\n",
    "print()\n",
    "# Takes input form user\n",
    "sentence = input(\"Enter a Sentence: \");\n",
    "\n",
    "# takes a count variable and set initial value 0\n",
    "count = 0;\n",
    "# traverse the whole sentence using for loop;\n",
    "# while traversing, checks the letter is vowel or not. If it is vowel then increase our count value to +1\n",
    "for i in range(len(sentence)):\n",
    "    if(sentence[i].lower() == 'a' or sentence[i].lower() == 'e' or sentence[i].lower() == 'i' or sentence[i].lower() == 'o' or sentence[i].lower() == 'u'):\n",
    "        count += 1;\n",
    "        \n",
    "print(f\"Your Sentence is : {sentence}\")\n",
    "print(f\"Totla vowel : {count}\")"
   ]
  },
  {
   "cell_type": "markdown",
   "id": "05754743-e0f5-43df-9cf6-5dd608ebefea",
   "metadata": {},
   "source": [
    "  "
   ]
  },
  {
   "cell_type": "markdown",
   "id": "ef91c64d-ccef-4c4f-ad8d-033bd78c5213",
   "metadata": {},
   "source": [
    "3. Given a string, reverse the order of characters using string slicing and print\n",
    "the reversed string."
   ]
  },
  {
   "cell_type": "code",
   "execution_count": 6,
   "id": "6576b7db-1469-42ab-ac16-194676330db4",
   "metadata": {},
   "outputs": [
    {
     "name": "stdout",
     "output_type": "stream",
     "text": [
      "-----Reversing String using String Slicing Methos-----\n",
      "\n",
      "1st way to reverse string: natnayaS\n",
      "2nd way to reverse string: natnayaS\n"
     ]
    }
   ],
   "source": [
    "print(\"-----Reversing String using String Slicing Methos-----\")\n",
    "print()\n",
    "# There are two ways We can reverse the string using string slicing and print the reversed string\n",
    "my_string = \"Sayantan\"\n",
    "# 1st way, we can start slicing from last index index and we can keep end index to blank and give steps to -1\n",
    "reverse_string1 = my_string[7::-1]\n",
    "print(f\"1st way to reverse string: {reverse_string1}\")\n",
    "\n",
    "# 2nd way, we can keep empty both start and  last index and give steps -1\n",
    "reverse_string2 = my_string[::-1]\n",
    "print(f\"2nd way to reverse string: {reverse_string2}\")"
   ]
  },
  {
   "cell_type": "markdown",
   "id": "561dacf9-00bf-4ed0-ae95-bb9ed06c3ff1",
   "metadata": {},
   "source": [
    " "
   ]
  },
  {
   "cell_type": "markdown",
   "id": "18668e68-4483-4ab3-8993-b28218d6694b",
   "metadata": {},
   "source": [
    "4. Write a program that takes a string as input and checks if it is a palindrome\n",
    "(reads the same forwards and backwards)."
   ]
  },
  {
   "cell_type": "code",
   "execution_count": 7,
   "id": "aa921b53-cff4-43d8-b0cd-a967f857d8a5",
   "metadata": {},
   "outputs": [
    {
     "name": "stdout",
     "output_type": "stream",
     "text": [
      "-----Checking string is a plindrone or not------\n",
      "\n"
     ]
    },
    {
     "name": "stdin",
     "output_type": "stream",
     "text": [
      "Enter a string:  12321\n"
     ]
    },
    {
     "name": "stdout",
     "output_type": "stream",
     "text": [
      "Given String '12321' is palindrone string\n"
     ]
    }
   ],
   "source": [
    "print(\"-----Checking string is a plindrone or not------\")\n",
    "print()\n",
    "\n",
    "# A string is a  palindrone string when it's forward and backward values are same.\n",
    "# Take a string as user input\n",
    "my_string_2 = input(\"Enter a string: \");\n",
    "# reverse the string\n",
    "reverse_my_string_2 = my_string_2[::-1];\n",
    "\n",
    "if(my_string_2.lower() == reverse_my_string_2.lower()):\n",
    "    print(f\"Given String '{my_string_2}' is palindrone string\")\n",
    "else:\n",
    "    print(f\"Given String '{my_string_2}' is not palindrone string\")"
   ]
  },
  {
   "cell_type": "markdown",
   "id": "6f6ab863-8b05-4ace-b2b3-8b6e3f211817",
   "metadata": {},
   "source": [
    " "
   ]
  },
  {
   "cell_type": "markdown",
   "id": "40e48ec8-4c8f-4280-8e7b-c2d7b966a303",
   "metadata": {},
   "source": [
    "5. Create a program that takes a string as input and removes all the spaces from\n",
    "it. Print the modified string without spaces."
   ]
  },
  {
   "cell_type": "code",
   "execution_count": 9,
   "id": "f09b2c49-32eb-40db-8a61-4c8bfe224d14",
   "metadata": {},
   "outputs": [
    {
     "name": "stdout",
     "output_type": "stream",
     "text": [
      "-----Remove spaces from string-----\n",
      "\n"
     ]
    },
    {
     "name": "stdin",
     "output_type": "stream",
     "text": [
      "Enter a String with spaces:  Sayantan Haldar\n"
     ]
    },
    {
     "name": "stdout",
     "output_type": "stream",
     "text": [
      "Your string is 'Sayantan Haldar' and string without space is SayantanHaldar\n"
     ]
    }
   ],
   "source": [
    "print(\"-----Remove spaces from string-----\")\n",
    "print()\n",
    "\n",
    "# we can remove spaces in strings using replace method.\n",
    "# takes a string from user\n",
    "myString = input(\"Enter a String with spaces: \");\n",
    "myStringWithoutSpace = myString.replace(\" \",\"\")\n",
    "print(f\"Your string is '{myString}' and string without space is {myStringWithoutSpace}\")"
   ]
  },
  {
   "cell_type": "markdown",
   "id": "01527d07-8021-454a-ade7-50e7009615e4",
   "metadata": {},
   "source": [
    " "
   ]
  }
 ],
 "metadata": {
  "kernelspec": {
   "display_name": "Python 3 (ipykernel)",
   "language": "python",
   "name": "python3"
  },
  "language_info": {
   "codemirror_mode": {
    "name": "ipython",
    "version": 3
   },
   "file_extension": ".py",
   "mimetype": "text/x-python",
   "name": "python",
   "nbconvert_exporter": "python",
   "pygments_lexer": "ipython3",
   "version": "3.10.8"
  }
 },
 "nbformat": 4,
 "nbformat_minor": 5
}
